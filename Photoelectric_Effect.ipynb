{
  "nbformat": 4,
  "nbformat_minor": 0,
  "metadata": {
    "colab": {
      "name": "Photoelectric Effect.ipynb",
      "provenance": []
    },
    "kernelspec": {
      "name": "python3",
      "display_name": "Python 3"
    },
    "language_info": {
      "name": "python"
    }
  },
  "cells": [
    {
      "cell_type": "markdown",
      "metadata": {
        "id": "q3RGqGK9Scls"
      },
      "source": [
        "Partner: Connor Bly, Lillian Tucker\n",
        "\n",
        "Date: October 26, 2023"
      ]
    },
    {
      "cell_type": "markdown",
      "metadata": {
        "id": "WRrSX_44WNmo"
      },
      "source": [
        "# Objectives\n",
        "* To verify that there is a linear relationship between stopping voltage and the inverse wavelength of the exciting light in a photoelectric effect apparatus.\n",
        "* To calculate Planck's constant from the slope of the best fit line to the stopping voltage vs. inverse wavelength data."
      ]
    },
    {
      "cell_type": "markdown",
      "metadata": {
        "id": "bf9uRh5aTh0C"
      },
      "source": [
        "# Install and import libraries"
      ]
    },
    {
      "cell_type": "code",
      "metadata": {
        "id": "ID4bUeLoSUqf",
        "outputId": "151aa968-d54a-4f70-89b7-267ba5dfcacd",
        "colab": {
          "base_uri": "https://localhost:8080/"
        }
      },
      "source": [
        "!pip uninstall tensorflow -y 1>/dev/null\n",
        "!pip install whit-phys-util 1>/dev/null"
      ],
      "execution_count": 1,
      "outputs": [
        {
          "output_type": "stream",
          "name": "stdout",
          "text": [
            "\u001b[31mERROR: pip's dependency resolver does not currently take into account all the packages that are installed. This behaviour is the source of the following dependency conflicts.\n",
            "lida 0.0.10 requires fastapi, which is not installed.\n",
            "lida 0.0.10 requires kaleido, which is not installed.\n",
            "lida 0.0.10 requires python-multipart, which is not installed.\n",
            "lida 0.0.10 requires uvicorn, which is not installed.\n",
            "llmx 0.0.15a0 requires cohere, which is not installed.\n",
            "llmx 0.0.15a0 requires openai, which is not installed.\n",
            "llmx 0.0.15a0 requires tiktoken, which is not installed.\n",
            "tensorflow-probability 0.22.0 requires typing-extensions<4.6.0, but you have typing-extensions 4.8.0 which is incompatible.\u001b[0m\u001b[31m\n",
            "\u001b[0m"
          ]
        }
      ]
    },
    {
      "cell_type": "code",
      "metadata": {
        "id": "iXrGRQXcT0Qs",
        "outputId": "00fdb363-902a-4f7a-b094-0cf43e051117",
        "colab": {
          "base_uri": "https://localhost:8080/"
        }
      },
      "source": [
        "import numpy as np\n",
        "import pandas as pd\n",
        "import matplotlib.pyplot as plt\n",
        "import whit_phys_util as buc\n",
        "import scipy.constants as sciConst"
      ],
      "execution_count": 2,
      "outputs": [
        {
          "output_type": "stream",
          "name": "stdout",
          "text": [
            "Mounted at /content/drive\n"
          ]
        }
      ]
    },
    {
      "cell_type": "markdown",
      "metadata": {
        "id": "qk5YfEAzT3rK"
      },
      "source": [
        "# Connect to GitHub"
      ]
    },
    {
      "cell_type": "code",
      "metadata": {
        "id": "-yvt5gjGVDQ8",
        "outputId": "aef7508a-a332-486a-c7f0-87df3a9a17b6",
        "colab": {
          "base_uri": "https://localhost:8080/"
        }
      },
      "source": [
        "repo = buc.local_repository(\"https://github.com/PS251-FA23/photoelectric-effect-pethh\")"
      ],
      "execution_count": 3,
      "outputs": [
        {
          "output_type": "stream",
          "name": "stdout",
          "text": [
            "Cloning repository from GitHub.\n"
          ]
        }
      ]
    },
    {
      "cell_type": "markdown",
      "metadata": {
        "id": "j1M-y_icVGWJ"
      },
      "source": [
        "# Equipment and materials\n",
        "| Description | Manufacturer | Model | ID or SN |\n",
        "| ----------- | ------------ | ----- | -------- |\n",
        "| photoelectric effect apparatus | Daedalon | EP-05 | 0201 |\n",
        "| mercury arc lamp | PASCO | OS | 9286 |\n",
        "| sodium arc lamp | PASCO | OS | 9287 |\n",
        "| digital multimeter | Fluke | True RMS | 179|\n",
        "| banana cables | Pomona | --- | --- |\n",
        "| blue and green optical filters | --- | --- | --- |\n",
        "| handheld spectrometer | STAR | fill in | --- |\n",
        "\n"
      ]
    },
    {
      "cell_type": "markdown",
      "metadata": {
        "id": "5wARvsKZWp95"
      },
      "source": [
        "# Observations of light sources\n",
        "\n",
        "## Incandescent\n",
        "* Equal distribution of wavelengths, creating smooth spectrum.\n",
        "\n",
        "\n",
        "## Fluorescent\n",
        "* Distict bright wavelengths, whith smooth spectrum.\n",
        "\n",
        "## Mercury\n",
        "* Wide spectrum of wavelengths. We did observe a green line at approximately 550 nm, and a blue line at approximately 436 nm.\n",
        "\n",
        "## Sodium Arc Lamp\n",
        "* Bright yellow line at approximately 590 nm. Distinct blue at 610 nm.\n",
        "\n",
        "## Comparison of mercury to flourescent lamp\n",
        "* __"
      ]
    },
    {
      "cell_type": "markdown",
      "metadata": {
        "id": "ixiim0TMGZJh"
      },
      "source": [
        "# Import data"
      ]
    },
    {
      "cell_type": "code",
      "metadata": {
        "id": "gQUTtSNBilUI"
      },
      "source": [
        "repo.pull()"
      ],
      "execution_count": null,
      "outputs": []
    },
    {
      "cell_type": "markdown",
      "metadata": {
        "id": "UoOHTv5SJS3Z"
      },
      "source": [
        "# Analysis"
      ]
    },
    {
      "cell_type": "code",
      "metadata": {
        "id": "6k-HHoNXJVFk"
      },
      "source": [],
      "execution_count": null,
      "outputs": []
    }
  ]
}